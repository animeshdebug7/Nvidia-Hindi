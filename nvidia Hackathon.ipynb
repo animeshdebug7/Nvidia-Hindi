{
 "cells": [
  {
   "cell_type": "code",
   "execution_count": 450,
   "metadata": {},
   "outputs": [
    {
     "name": "stdout",
     "output_type": "stream",
     "text": [
      "Requirement already satisfied: keras in c:\\users\\anime\\anaconda3\\lib\\site-packages (2.6.0)\n"
     ]
    }
   ],
   "source": [
    "!pip install keras"
   ]
  },
  {
   "cell_type": "code",
   "execution_count": 451,
   "metadata": {},
   "outputs": [
    {
     "name": "stdout",
     "output_type": "stream",
     "text": [
      "Requirement already satisfied: livelossplot in c:\\users\\anime\\anaconda3\\lib\\site-packages (0.5.4)\n",
      "Requirement already satisfied: ipython in c:\\users\\anime\\anaconda3\\lib\\site-packages (from livelossplot) (7.16.1)\n",
      "Requirement already satisfied: bokeh in c:\\users\\anime\\anaconda3\\lib\\site-packages (from livelossplot) (2.1.1)\n",
      "Requirement already satisfied: matplotlib in c:\\users\\anime\\anaconda3\\lib\\site-packages (from livelossplot) (3.2.2)\n",
      "Requirement already satisfied: pygments in c:\\users\\anime\\anaconda3\\lib\\site-packages (from ipython->livelossplot) (2.6.1)\n",
      "Requirement already satisfied: setuptools>=18.5 in c:\\users\\anime\\anaconda3\\lib\\site-packages (from ipython->livelossplot) (49.2.0.post20200714)\n",
      "Requirement already satisfied: colorama; sys_platform == \"win32\" in c:\\users\\anime\\anaconda3\\lib\\site-packages (from ipython->livelossplot) (0.4.3)\n",
      "Requirement already satisfied: traitlets>=4.2 in c:\\users\\anime\\anaconda3\\lib\\site-packages (from ipython->livelossplot) (4.3.3)\n",
      "Requirement already satisfied: pickleshare in c:\\users\\anime\\anaconda3\\lib\\site-packages (from ipython->livelossplot) (0.7.5)\n",
      "Requirement already satisfied: backcall in c:\\users\\anime\\anaconda3\\lib\\site-packages (from ipython->livelossplot) (0.2.0)\n",
      "Requirement already satisfied: decorator in c:\\users\\anime\\anaconda3\\lib\\site-packages (from ipython->livelossplot) (4.4.2)\n",
      "Requirement already satisfied: jedi>=0.10 in c:\\users\\anime\\anaconda3\\lib\\site-packages (from ipython->livelossplot) (0.17.1)\n",
      "Requirement already satisfied: prompt-toolkit!=3.0.0,!=3.0.1,<3.1.0,>=2.0.0 in c:\\users\\anime\\anaconda3\\lib\\site-packages (from ipython->livelossplot) (3.0.5)\n",
      "Requirement already satisfied: Jinja2>=2.7 in c:\\users\\anime\\anaconda3\\lib\\site-packages (from bokeh->livelossplot) (2.11.2)\n",
      "Requirement already satisfied: python-dateutil>=2.1 in c:\\users\\anime\\anaconda3\\lib\\site-packages (from bokeh->livelossplot) (2.8.1)\n",
      "Requirement already satisfied: packaging>=16.8 in c:\\users\\anime\\anaconda3\\lib\\site-packages (from bokeh->livelossplot) (20.4)\n",
      "Requirement already satisfied: typing-extensions>=3.7.4 in c:\\users\\anime\\anaconda3\\lib\\site-packages (from bokeh->livelossplot) (3.7.4.2)\n",
      "Requirement already satisfied: PyYAML>=3.10 in c:\\users\\anime\\anaconda3\\lib\\site-packages (from bokeh->livelossplot) (5.3.1)\n",
      "Requirement already satisfied: numpy>=1.11.3 in c:\\users\\anime\\anaconda3\\lib\\site-packages (from bokeh->livelossplot) (1.19.5)\n",
      "Requirement already satisfied: pillow>=4.0 in c:\\users\\anime\\anaconda3\\lib\\site-packages (from bokeh->livelossplot) (8.3.1)\n",
      "Requirement already satisfied: tornado>=5.1 in c:\\users\\anime\\anaconda3\\lib\\site-packages (from bokeh->livelossplot) (6.0.4)\n",
      "Requirement already satisfied: pyparsing!=2.0.4,!=2.1.2,!=2.1.6,>=2.0.1 in c:\\users\\anime\\anaconda3\\lib\\site-packages (from matplotlib->livelossplot) (2.4.7)\n",
      "Requirement already satisfied: cycler>=0.10 in c:\\users\\anime\\anaconda3\\lib\\site-packages (from matplotlib->livelossplot) (0.10.0)\n",
      "Requirement already satisfied: kiwisolver>=1.0.1 in c:\\users\\anime\\anaconda3\\lib\\site-packages (from matplotlib->livelossplot) (1.2.0)\n",
      "Requirement already satisfied: six in c:\\users\\anime\\anaconda3\\lib\\site-packages (from traitlets>=4.2->ipython->livelossplot) (1.15.0)\n",
      "Requirement already satisfied: ipython-genutils in c:\\users\\anime\\anaconda3\\lib\\site-packages (from traitlets>=4.2->ipython->livelossplot) (0.2.0)\n",
      "Requirement already satisfied: parso<0.8.0,>=0.7.0 in c:\\users\\anime\\anaconda3\\lib\\site-packages (from jedi>=0.10->ipython->livelossplot) (0.7.0)\n",
      "Requirement already satisfied: wcwidth in c:\\users\\anime\\anaconda3\\lib\\site-packages (from prompt-toolkit!=3.0.0,!=3.0.1,<3.1.0,>=2.0.0->ipython->livelossplot) (0.2.5)\n",
      "Requirement already satisfied: MarkupSafe>=0.23 in c:\\users\\anime\\anaconda3\\lib\\site-packages (from Jinja2>=2.7->bokeh->livelossplot) (1.1.1)\n"
     ]
    }
   ],
   "source": [
    "!pip install livelossplot"
   ]
  },
  {
   "cell_type": "code",
   "execution_count": 452,
   "metadata": {},
   "outputs": [],
   "source": [
    "from livelossplot import PlotLossesKeras "
   ]
  },
  {
   "cell_type": "code",
   "execution_count": 453,
   "metadata": {},
   "outputs": [],
   "source": [
    "import pandas as pd\n",
    "import numpy as np\n",
    "import os\n",
    "import tensorflow as tf\n",
    "import cv2\n",
    "from tensorflow import keras\n",
    "from tensorflow.keras import layers, Input\n",
    "from tensorflow.keras.models import Sequential, Model\n",
    "from tensorflow.keras.layers import Conv2D, MaxPooling2D, Activation, Flatten, Dense\n",
    "from  matplotlib import pyplot as plt\n",
    "import matplotlib.image as mpimg\n",
    "import PIL\n",
    "from PIL import Image"
   ]
  },
  {
   "cell_type": "code",
   "execution_count": 454,
   "metadata": {},
   "outputs": [],
   "source": [
    "datadir = \"C:/Users/anime/OneDrive/Desktop/training\"\n",
    "categories = [\"hi\", \"background\"]"
   ]
  },
  {
   "cell_type": "code",
   "execution_count": 455,
   "metadata": {},
   "outputs": [
    {
     "data": {
      "image/png": "[encoded data removed]",
      "text/plain": [
       "<Figure size 432x288 with 1 Axes>"
      ]
     },
     "metadata": {
      "needs_background": "light"
     },
     "output_type": "display_data"
    }
   ],
   "source": [
    "for category in categories:\n",
    "    path = os.path.join(datadir, category)\n",
    "    for img in os.listdir(path):\n",
    "        img_array = cv2.imread(os.path.join(path, img), cv2.IMREAD_GRAYSCALE)\n",
    "        plt.imshow(img_array, cmap = \"gray\")\n",
    "        plt.show()\n",
    "        break\n",
    "    break"
   ]
  },
  {
   "cell_type": "code",
   "execution_count": 456,
   "metadata": {},
   "outputs": [
    {
     "name": "stdout",
     "output_type": "stream",
     "text": [
      "[[255 255 251 ... 249 234 252]\n",
      " [232 245 234 ... 255 255 248]\n",
      " [255 206 249 ... 251 242 244]\n",
      " ...\n",
      " [255 255 255 ... 255 255 255]\n",
      " [255 255 255 ... 255 255 255]\n",
      " [255 255 255 ... 255 255 255]]\n"
     ]
    }
   ],
   "source": [
    "print(img_array)"
   ]
  },
  {
   "cell_type": "code",
   "execution_count": 457,
   "metadata": {},
   "outputs": [
    {
     "data": {
      "text/plain": [
       "(64, 64)"
      ]
     },
     "execution_count": 457,
     "metadata": {},
     "output_type": "execute_result"
    }
   ],
   "source": [
    "img_array.shape"
   ]
  },
  {
   "cell_type": "code",
   "execution_count": 458,
   "metadata": {},
   "outputs": [],
   "source": [
    "training_data = []\n",
    "def create_training_data():\n",
    "        for category in categories:\n",
    "            path = os.path.join(datadir, category)\n",
    "            verdict = categories.index(category)\n",
    "            for img in os.listdir(path):\n",
    "                try:\n",
    "                    img_array = cv2.imread(os.path.join(path, img), cv2.IMREAD_GRAYSCALE)\n",
    "                    new_array = cv2.resize(img_array, (50, 50))\n",
    "                    training_data.append([new_array, verdict])\n",
    "                except Exception as e:\n",
    "                    print(\"broken\")\n",
    "create_training_data()        "
   ]
  },
  {
   "cell_type": "code",
   "execution_count": 459,
   "metadata": {},
   "outputs": [
    {
     "name": "stdout",
     "output_type": "stream",
     "text": [
      "5875\n"
     ]
    }
   ],
   "source": [
    "print(len(training_data))\n"
   ]
  },
  {
   "cell_type": "code",
   "execution_count": 460,
   "metadata": {},
   "outputs": [],
   "source": [
    "import random\n",
    "\n",
    "random.shuffle(training_data)"
   ]
  },
  {
   "cell_type": "code",
   "execution_count": 461,
   "metadata": {},
   "outputs": [],
   "source": [
    "# for sample in training_data:\n",
    "#     print(sample[1])"
   ]
  },
  {
   "cell_type": "code",
   "execution_count": 462,
   "metadata": {},
   "outputs": [],
   "source": [
    "X = []\n",
    "y = []"
   ]
  },
  {
   "cell_type": "code",
   "execution_count": 463,
   "metadata": {},
   "outputs": [],
   "source": [
    "for features, label in training_data:\n",
    "    X.append(features)\n",
    "    y.append(label)\n",
    "    \n",
    "X = np.array(X).reshape(-1, 50, 50 , 1)\n",
    "y = np.array(y)"
   ]
  },
  {
   "cell_type": "code",
   "execution_count": 464,
   "metadata": {},
   "outputs": [
    {
     "name": "stdout",
     "output_type": "stream",
     "text": [
      "(5875, 50, 50, 1)\n"
     ]
    },
    {
     "data": {
      "text/plain": [
       "(5875,)"
      ]
     },
     "execution_count": 464,
     "metadata": {},
     "output_type": "execute_result"
    }
   ],
   "source": [
    "print(X.shape)\n",
    "y.shape"
   ]
  },
  {
   "cell_type": "code",
   "execution_count": 465,
   "metadata": {},
   "outputs": [],
   "source": [
    "# import pickle\n",
    "\n",
    "# pickle_out = open(\"X.pickle\", \"wb\")\n",
    "# pickle.dump(X. pickle_out)\n",
    "# pickle_out.close()"
   ]
  },
  {
   "cell_type": "code",
   "execution_count": 466,
   "metadata": {},
   "outputs": [
    {
     "data": {
      "text/plain": [
       "50"
      ]
     },
     "execution_count": 466,
     "metadata": {},
     "output_type": "execute_result"
    }
   ],
   "source": [
    "len(X[0])"
   ]
  },
  {
   "cell_type": "code",
   "execution_count": 467,
   "metadata": {},
   "outputs": [],
   "source": [
    "X = X/255"
   ]
  },
  {
   "cell_type": "code",
   "execution_count": 468,
   "metadata": {},
   "outputs": [],
   "source": [
    "#X_flattened = X.reshape(len(X), 50 * 50)"
   ]
  },
  {
   "cell_type": "code",
   "execution_count": 469,
   "metadata": {},
   "outputs": [],
   "source": [
    "#X_flattened.shape"
   ]
  },
  {
   "cell_type": "code",
   "execution_count": 470,
   "metadata": {},
   "outputs": [],
   "source": [
    "#X_flattened[0]"
   ]
  },
  {
   "cell_type": "code",
   "execution_count": 471,
   "metadata": {},
   "outputs": [],
   "source": [
    "from sklearn.model_selection import train_test_split"
   ]
  },
  {
   "cell_type": "code",
   "execution_count": 481,
   "metadata": {},
   "outputs": [],
   "source": [
    "X_train, X_test, y_train, y_test = train_test_split(X, y, random_state = 1, test_size = 0.2)"
   ]
  },
  {
   "cell_type": "code",
   "execution_count": 482,
   "metadata": {},
   "outputs": [
    {
     "name": "stdout",
     "output_type": "stream",
     "text": [
      "(4700, 50, 50, 1) (1175, 50, 50, 1) (4700,) (1175,)\n"
     ]
    }
   ],
   "source": [
    "print(X_train.shape, X_test.shape, y_train.shape, y_test.shape)"
   ]
  },
  {
   "cell_type": "code",
   "execution_count": 483,
   "metadata": {},
   "outputs": [],
   "source": [
    "from keras.callbacks import ModelCheckpoint"
   ]
  },
  {
   "cell_type": "code",
   "execution_count": 484,
   "metadata": {},
   "outputs": [
    {
     "data": {
      "text/plain": [
       "50"
      ]
     },
     "execution_count": 484,
     "metadata": {},
     "output_type": "execute_result"
    }
   ],
   "source": [
    "len(X_train[0])"
   ]
  },
  {
   "cell_type": "code",
   "execution_count": 485,
   "metadata": {},
   "outputs": [
    {
     "data": {
      "text/plain": [
       "0"
      ]
     },
     "execution_count": 485,
     "metadata": {},
     "output_type": "execute_result"
    }
   ],
   "source": [
    "y_train[1]"
   ]
  },
  {
   "cell_type": "code",
   "execution_count": 502,
   "metadata": {},
   "outputs": [
    {
     "data": {
      "image/png": "[encoded data removed]",
      "text/plain": [
       "<Figure size 864x576 with 2 Axes>"
      ]
     },
     "metadata": {
      "needs_background": "light"
     },
     "output_type": "display_data"
    },
    {
     "name": "stdout",
     "output_type": "stream",
     "text": [
      "accuracy\n",
      "\ttraining         \t (min:    0.754, max:    0.997, cur:    0.995)\n",
      "\tvalidation       \t (min:    0.770, max:    0.989, cur:    0.988)\n",
      "Loss\n",
      "\ttraining         \t (min:    0.013, max:    0.727, cur:    0.017)\n",
      "\tvalidation       \t (min:    0.039, max:    0.473, cur:    0.044)\n"
     ]
    },
    {
     "data": {
      "text/plain": [
       "<keras.callbacks.History at 0x1951f77d610>"
      ]
     },
     "execution_count": 502,
     "metadata": {},
     "output_type": "execute_result"
    }
   ],
   "source": [
    "model1 = Sequential()\n",
    "\n",
    "#y_train = y_train.reshape(-1,1)\n",
    "\n",
    "model1.add(Conv2D(50, (2, 2), input_shape = X_train.shape[1:]))\n",
    "model1.add(Activation('relu'))\n",
    "model1.add(MaxPooling2D(pool_size = (2,2)))\n",
    "\n",
    "model1.add(Conv2D(50, (2, 2)))\n",
    "model1.add(Activation('relu'))\n",
    "model1.add(MaxPooling2D(pool_size = (2,2)))\n",
    "\n",
    "model1.add(Conv2D(50, (2, 2)))\n",
    "model1.add(Activation('relu'))\n",
    "model1.add(MaxPooling2D(pool_size = (2,2)))\n",
    "\n",
    "model1.add(Flatten())\n",
    "model1.add(Dense(50))\n",
    "model1.add(Activation('sigmoid'))\n",
    "\n",
    "model1.compile(loss = \"sparse_categorical_crossentropy\",\n",
    "              optimizer = \"adam\",\n",
    "              metrics = ['accuracy'])\n",
    "\n",
    "mc_loss = ModelCheckpoint('Models/model1svd3.h5', monitor='val_loss', mode='min', verbose=1, save_best_only=True)\n",
    "\n",
    "model1.fit(X_train, y_train, validation_data = (X_test, y_test), batch_size = 32, epochs = 50, callbacks = [mc_loss, PlotLossesKeras()])"
   ]
  },
  {
   "cell_type": "code",
   "execution_count": 488,
   "metadata": {},
   "outputs": [
    {
     "data": {
      "text/plain": [
       "(4700, 50, 50, 1)"
      ]
     },
     "execution_count": 488,
     "metadata": {},
     "output_type": "execute_result"
    }
   ],
   "source": [
    "X_train.shape"
   ]
  },
  {
   "cell_type": "code",
   "execution_count": 489,
   "metadata": {},
   "outputs": [
    {
     "data": {
      "text/plain": [
       "(4700,)"
      ]
     },
     "execution_count": 489,
     "metadata": {},
     "output_type": "execute_result"
    }
   ],
   "source": [
    "y_train.shape"
   ]
  },
  {
   "cell_type": "code",
   "execution_count": 497,
   "metadata": {},
   "outputs": [],
   "source": [
    "# model = keras.Sequential(\n",
    "#     [\n",
    "#     keras.layers.Dense(10, input_shape=(2500,), activation = 'relu'),\n",
    "#     keras.layers.Dropout(0.4),\n",
    "#     keras.layers.Dense(1, input_shape=(2500,), activation = 'sigmoid')\n",
    "#     ])\n",
    "\n",
    "# model.compile(optimizer='adam',\n",
    "#               loss='sparse_categorical_crossentropy',\n",
    "#               metrics=['accuracy'])\n",
    "# # callbacks\n",
    "# #mc_loss = ModelCheckpoint('Models/model1svd3.h5', monitor='val_loss', mode='min', verbose=1, save_best_only=True)\n",
    "\n",
    "\n",
    "# model.fit(X_train, y_train, validation_data = (X_test, y_test), epochs = 50, callbacks = [mc_loss, PlotLossesKeras()])"
   ]
  },
  {
   "cell_type": "code",
   "execution_count": null,
   "metadata": {},
   "outputs": [],
   "source": [
    "#from keras.models import load_models\n",
    "\n",
    "##to load model\n",
    "##load_model('Moldels/model1svd3.h5')"
   ]
  },
  {
   "cell_type": "code",
   "execution_count": null,
   "metadata": {},
   "outputs": [],
   "source": []
  }
 ],
 "metadata": {
  "kernelspec": {
   "display_name": "Python 3",
   "language": "python",
   "name": "python3"
  },
  "language_info": {
   "codemirror_mode": {
    "name": "ipython",
    "version": 3
   },
   "file_extension": ".py",
   "mimetype": "text/x-python",
   "name": "python",
   "nbconvert_exporter": "python",
   "pygments_lexer": "ipython3",
   "version": "3.8.3"
  }
 },
 "nbformat": 4,
 "nbformat_minor": 4
}
