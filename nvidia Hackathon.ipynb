{
 "cells": [
  {
   "cell_type": "code",
   "execution_count": 95,
   "metadata": {},
   "outputs": [
    {
     "name": "stdout",
     "output_type": "stream",
     "text": [
      "Requirement already satisfied: keras in c:\\users\\anime\\anaconda3\\lib\\site-packages (2.6.0)\n"
     ]
    }
   ],
   "source": [
    "!pip install keras"
   ]
  },
  {
   "cell_type": "code",
   "execution_count": 165,
   "metadata": {},
   "outputs": [
    {
     "name": "stdout",
     "output_type": "stream",
     "text": [
      "Collecting livelossplot\n",
      "  Downloading livelossplot-0.5.4-py3-none-any.whl (22 kB)\n",
      "Requirement already satisfied: ipython in c:\\users\\anime\\anaconda3\\lib\\site-packages (from livelossplot) (7.16.1)\n",
      "Requirement already satisfied: matplotlib in c:\\users\\anime\\anaconda3\\lib\\site-packages (from livelossplot) (3.2.2)\n",
      "Requirement already satisfied: bokeh in c:\\users\\anime\\anaconda3\\lib\\site-packages (from livelossplot) (2.1.1)\n",
      "Requirement already satisfied: pickleshare in c:\\users\\anime\\anaconda3\\lib\\site-packages (from ipython->livelossplot) (0.7.5)\n",
      "Requirement already satisfied: decorator in c:\\users\\anime\\anaconda3\\lib\\site-packages (from ipython->livelossplot) (4.4.2)\n",
      "Requirement already satisfied: backcall in c:\\users\\anime\\anaconda3\\lib\\site-packages (from ipython->livelossplot) (0.2.0)\n",
      "Requirement already satisfied: traitlets>=4.2 in c:\\users\\anime\\anaconda3\\lib\\site-packages (from ipython->livelossplot) (4.3.3)\n",
      "Requirement already satisfied: pygments in c:\\users\\anime\\anaconda3\\lib\\site-packages (from ipython->livelossplot) (2.6.1)\n",
      "Requirement already satisfied: colorama; sys_platform == \"win32\" in c:\\users\\anime\\anaconda3\\lib\\site-packages (from ipython->livelossplot) (0.4.3)\n",
      "Requirement already satisfied: prompt-toolkit!=3.0.0,!=3.0.1,<3.1.0,>=2.0.0 in c:\\users\\anime\\anaconda3\\lib\\site-packages (from ipython->livelossplot) (3.0.5)\n",
      "Requirement already satisfied: jedi>=0.10 in c:\\users\\anime\\anaconda3\\lib\\site-packages (from ipython->livelossplot) (0.17.1)\n",
      "Requirement already satisfied: setuptools>=18.5 in c:\\users\\anime\\anaconda3\\lib\\site-packages (from ipython->livelossplot) (49.2.0.post20200714)\n",
      "Requirement already satisfied: pyparsing!=2.0.4,!=2.1.2,!=2.1.6,>=2.0.1 in c:\\users\\anime\\anaconda3\\lib\\site-packages (from matplotlib->livelossplot) (2.4.7)\n",
      "Requirement already satisfied: numpy>=1.11 in c:\\users\\anime\\anaconda3\\lib\\site-packages (from matplotlib->livelossplot) (1.19.5)\n",
      "Requirement already satisfied: python-dateutil>=2.1 in c:\\users\\anime\\anaconda3\\lib\\site-packages (from matplotlib->livelossplot) (2.8.1)\n",
      "Requirement already satisfied: kiwisolver>=1.0.1 in c:\\users\\anime\\anaconda3\\lib\\site-packages (from matplotlib->livelossplot) (1.2.0)\n",
      "Requirement already satisfied: cycler>=0.10 in c:\\users\\anime\\anaconda3\\lib\\site-packages (from matplotlib->livelossplot) (0.10.0)\n",
      "Requirement already satisfied: Jinja2>=2.7 in c:\\users\\anime\\anaconda3\\lib\\site-packages (from bokeh->livelossplot) (2.11.2)\n",
      "Requirement already satisfied: packaging>=16.8 in c:\\users\\anime\\anaconda3\\lib\\site-packages (from bokeh->livelossplot) (20.4)\n",
      "Requirement already satisfied: tornado>=5.1 in c:\\users\\anime\\anaconda3\\lib\\site-packages (from bokeh->livelossplot) (6.0.4)\n",
      "Requirement already satisfied: pillow>=4.0 in c:\\users\\anime\\anaconda3\\lib\\site-packages (from bokeh->livelossplot) (8.3.1)\n",
      "Requirement already satisfied: typing-extensions>=3.7.4 in c:\\users\\anime\\anaconda3\\lib\\site-packages (from bokeh->livelossplot) (3.7.4.2)\n",
      "Requirement already satisfied: PyYAML>=3.10 in c:\\users\\anime\\anaconda3\\lib\\site-packages (from bokeh->livelossplot) (5.3.1)\n",
      "Requirement already satisfied: ipython-genutils in c:\\users\\anime\\anaconda3\\lib\\site-packages (from traitlets>=4.2->ipython->livelossplot) (0.2.0)\n",
      "Requirement already satisfied: six in c:\\users\\anime\\anaconda3\\lib\\site-packages (from traitlets>=4.2->ipython->livelossplot) (1.15.0)\n",
      "Requirement already satisfied: wcwidth in c:\\users\\anime\\anaconda3\\lib\\site-packages (from prompt-toolkit!=3.0.0,!=3.0.1,<3.1.0,>=2.0.0->ipython->livelossplot) (0.2.5)\n",
      "Requirement already satisfied: parso<0.8.0,>=0.7.0 in c:\\users\\anime\\anaconda3\\lib\\site-packages (from jedi>=0.10->ipython->livelossplot) (0.7.0)\n",
      "Requirement already satisfied: MarkupSafe>=0.23 in c:\\users\\anime\\anaconda3\\lib\\site-packages (from Jinja2>=2.7->bokeh->livelossplot) (1.1.1)\n",
      "Installing collected packages: livelossplot\n",
      "Successfully installed livelossplot-0.5.4\n"
     ]
    }
   ],
   "source": [
    "!pip install livelossplot"
   ]
  },
  {
   "cell_type": "code",
   "execution_count": 166,
   "metadata": {},
   "outputs": [],
   "source": [
    "from livelossplot import PlotLossesKeras "
   ]
  },
  {
   "cell_type": "code",
   "execution_count": 115,
   "metadata": {},
   "outputs": [],
   "source": [
    "import pandas as pd\n",
    "import numpy as np\n",
    "import os\n",
    "import tensorflow as tf\n",
    "import cv2\n",
    "from tensorflow import keras\n",
    "from tensorflow.keras import layers, Input\n",
    "from tensorflow.keras.models import Sequential, Model\n",
    "from  matplotlib import pyplot as plt\n",
    "import matplotlib.image as mpimg\n",
    "import PIL\n",
    "from PIL import Image"
   ]
  },
  {
   "cell_type": "code",
   "execution_count": 116,
   "metadata": {},
   "outputs": [],
   "source": [
    "datadir = \"C:/Users/anime/OneDrive/Desktop/training\"\n",
    "categories = [\"hi\", \"background\"]"
   ]
  },
  {
   "cell_type": "code",
   "execution_count": 117,
   "metadata": {},
   "outputs": [
    {
     "data": {
      "image/png": "[encoded data removed]",
      "text/plain": [
       "<Figure size 432x288 with 1 Axes>"
      ]
     },
     "metadata": {
      "needs_background": "light"
     },
     "output_type": "display_data"
    }
   ],
   "source": [
    "for category in categories:\n",
    "    path = os.path.join(datadir, category)\n",
    "    for img in os.listdir(path):\n",
    "        img_array = cv2.imread(os.path.join(path, img), cv2.IMREAD_GRAYSCALE)\n",
    "        plt.imshow(img_array, cmap = \"gray\")\n",
    "        plt.show()\n",
    "        break\n",
    "    break"
   ]
  },
  {
   "cell_type": "code",
   "execution_count": 118,
   "metadata": {},
   "outputs": [
    {
     "name": "stdout",
     "output_type": "stream",
     "text": [
      "[[255 255 251 ... 249 234 252]\n",
      " [232 245 234 ... 255 255 248]\n",
      " [255 206 249 ... 251 242 244]\n",
      " ...\n",
      " [255 255 255 ... 255 255 255]\n",
      " [255 255 255 ... 255 255 255]\n",
      " [255 255 255 ... 255 255 255]]\n"
     ]
    }
   ],
   "source": [
    "print(img_array)"
   ]
  },
  {
   "cell_type": "code",
   "execution_count": 119,
   "metadata": {},
   "outputs": [
    {
     "data": {
      "text/plain": [
       "(64, 64)"
      ]
     },
     "execution_count": 119,
     "metadata": {},
     "output_type": "execute_result"
    }
   ],
   "source": [
    "img_array.shape"
   ]
  },
  {
   "cell_type": "code",
   "execution_count": 120,
   "metadata": {},
   "outputs": [],
   "source": [
    "training_data = []\n",
    "def create_training_data():\n",
    "        for category in categories:\n",
    "            path = os.path.join(datadir, category)\n",
    "            verdict = categories.index(category)\n",
    "            for img in os.listdir(path):\n",
    "                try:\n",
    "                    img_array = cv2.imread(os.path.join(path, img), cv2.IMREAD_GRAYSCALE)\n",
    "                    new_array = cv2.resize(img_array, (50, 50))\n",
    "                    training_data.append([new_array, verdict])\n",
    "                except Exception as e:\n",
    "                    print(\"broken\")\n",
    "create_training_data()        "
   ]
  },
  {
   "cell_type": "code",
   "execution_count": 121,
   "metadata": {},
   "outputs": [
    {
     "name": "stdout",
     "output_type": "stream",
     "text": [
      "5875\n"
     ]
    }
   ],
   "source": [
    "print(len(training_data))\n"
   ]
  },
  {
   "cell_type": "code",
   "execution_count": 122,
   "metadata": {},
   "outputs": [],
   "source": [
    "import random\n",
    "\n",
    "random.shuffle(training_data)"
   ]
  },
  {
   "cell_type": "code",
   "execution_count": 123,
   "metadata": {},
   "outputs": [],
   "source": [
    "# for sample in training_data:\n",
    "#     print(sample[1])"
   ]
  },
  {
   "cell_type": "code",
   "execution_count": 124,
   "metadata": {},
   "outputs": [],
   "source": [
    "X = []\n",
    "y = []"
   ]
  },
  {
   "cell_type": "code",
   "execution_count": 125,
   "metadata": {},
   "outputs": [],
   "source": [
    "for features, label in training_data:\n",
    "    X.append(features)\n",
    "    y.append(label)\n",
    "    \n",
    "X = np.array(X).reshape(-1, 50, 50 , 1)\n",
    "y = np.array(y)"
   ]
  },
  {
   "cell_type": "code",
   "execution_count": 147,
   "metadata": {},
   "outputs": [
    {
     "name": "stdout",
     "output_type": "stream",
     "text": [
      "(5875, 50, 50, 1)\n"
     ]
    },
    {
     "data": {
      "text/plain": [
       "(5875,)"
      ]
     },
     "execution_count": 147,
     "metadata": {},
     "output_type": "execute_result"
    }
   ],
   "source": [
    "print(X.shape)\n",
    "y.shape"
   ]
  },
  {
   "cell_type": "code",
   "execution_count": 126,
   "metadata": {},
   "outputs": [],
   "source": [
    "# import pickle\n",
    "\n",
    "# pickle_out = open(\"X.pickle\", \"wb\")\n",
    "# pickle.dump(X. pickle_out)\n",
    "# pickle_out.close()"
   ]
  },
  {
   "cell_type": "code",
   "execution_count": 127,
   "metadata": {},
   "outputs": [
    {
     "data": {
      "text/plain": [
       "50"
      ]
     },
     "execution_count": 127,
     "metadata": {},
     "output_type": "execute_result"
    }
   ],
   "source": [
    "len(X[0])"
   ]
  },
  {
   "cell_type": "code",
   "execution_count": 128,
   "metadata": {},
   "outputs": [],
   "source": [
    "X = X/255"
   ]
  },
  {
   "cell_type": "code",
   "execution_count": 129,
   "metadata": {},
   "outputs": [],
   "source": [
    "X_flattened = X.reshape(len(X), 50 * 50)"
   ]
  },
  {
   "cell_type": "code",
   "execution_count": 130,
   "metadata": {},
   "outputs": [
    {
     "data": {
      "text/plain": [
       "(5875, 2500)"
      ]
     },
     "execution_count": 130,
     "metadata": {},
     "output_type": "execute_result"
    }
   ],
   "source": [
    "X_flattened.shape"
   ]
  },
  {
   "cell_type": "code",
   "execution_count": 131,
   "metadata": {},
   "outputs": [
    {
     "data": {
      "text/plain": [
       "array([0.8       , 0.81960784, 0.85098039, ..., 0.26666667, 0.19607843,\n",
       "       0.14901961])"
      ]
     },
     "execution_count": 131,
     "metadata": {},
     "output_type": "execute_result"
    }
   ],
   "source": [
    "X_flattened[0]"
   ]
  },
  {
   "cell_type": "code",
   "execution_count": 156,
   "metadata": {},
   "outputs": [],
   "source": [
    "from sklearn.model_selection import train_test_split"
   ]
  },
  {
   "cell_type": "code",
   "execution_count": 157,
   "metadata": {},
   "outputs": [],
   "source": [
    "X_train, X_test, y_train, y_test = train_test_split(X_flattened, y, random_state = 1, test_size=0.2)"
   ]
  },
  {
   "cell_type": "code",
   "execution_count": 158,
   "metadata": {},
   "outputs": [
    {
     "name": "stdout",
     "output_type": "stream",
     "text": [
      "(4700, 2500) (1175, 2500) (4700,) (1175,)\n"
     ]
    }
   ],
   "source": [
    "print(X_train.shape, X_test.shape, y_train.shape, y_test.shape)"
   ]
  },
  {
   "cell_type": "code",
   "execution_count": 167,
   "metadata": {},
   "outputs": [],
   "source": [
    "from keras.callbacks import ModelCheckpoint"
   ]
  },
  {
   "cell_type": "code",
   "execution_count": 170,
   "metadata": {},
   "outputs": [
    {
     "data": {
      "image/png": "[encoded data removed]",
      "text/plain": [
       "<Figure size 864x576 with 2 Axes>"
      ]
     },
     "metadata": {
      "needs_background": "light"
     },
     "output_type": "display_data"
    },
    {
     "name": "stdout",
     "output_type": "stream",
     "text": [
      "accuracy\n",
      "\ttraining         \t (min:    0.757, max:    0.762, cur:    0.762)\n",
      "\tvalidation       \t (min:    0.738, max:    0.738, cur:    0.738)\n",
      "Loss\n",
      "\ttraining         \t (min:    0.500, max:    0.588, cur:    0.507)\n",
      "\tvalidation       \t (min:    0.542, max:    0.593, cur:    0.549)\n"
     ]
    },
    {
     "data": {
      "text/plain": [
       "<keras.callbacks.History at 0x1951fc716d0>"
      ]
     },
     "execution_count": 170,
     "metadata": {},
     "output_type": "execute_result"
    }
   ],
   "source": [
    "model = keras.Sequential(\n",
    "    [\n",
    "    keras.layers.Dense(10, input_shape=(2500,), activation='relu'),\n",
    "    keras.layers.Dropout(0.4),\n",
    "    keras.layers.Dense(1, input_shape=(2500,), activation='sigmoid')\n",
    "    ])\n",
    "\n",
    "model.compile(optimizer='adam',\n",
    "              loss='binary_crossentropy',\n",
    "              metrics=['accuracy'])\n",
    "# callbacks\n",
    "mc_loss = ModelCheckpoint('Models/model1svd3.h5', monitor='val_loss', mode='min', verbose=1, save_best_only=True)\n",
    "\n",
    "\n",
    "model.fit(X_train, y_train, validation_data = (X_test, y_test), epochs = 50, callbacks = [mc_loss, PlotLossesKeras()])"
   ]
  },
  {
   "cell_type": "code",
   "execution_count": 172,
   "metadata": {},
   "outputs": [],
   "source": [
    "#from keras.models import load_models\n",
    "\n",
    "##to load model\n",
    "##load_model('Moldels/model1svd3.h5')\n"
   ]
  },
  {
   "cell_type": "code",
   "execution_count": null,
   "metadata": {},
   "outputs": [],
   "source": []
  }
 ],
 "metadata": {
  "kernelspec": {
   "display_name": "Python 3",
   "language": "python",
   "name": "python3"
  },
  "language_info": {
   "codemirror_mode": {
    "name": "ipython",
    "version": 3
   },
   "file_extension": ".py",
   "mimetype": "text/x-python",
   "name": "python",
   "nbconvert_exporter": "python",
   "pygments_lexer": "ipython3",
   "version": "3.8.3"
  }
 },
 "nbformat": 4,
 "nbformat_minor": 4
}
